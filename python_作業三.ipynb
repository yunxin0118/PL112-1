{
  "nbformat": 4,
  "nbformat_minor": 0,
  "metadata": {
    "colab": {
      "provenance": []
    },
    "kernelspec": {
      "name": "python3",
      "display_name": "Python 3"
    },
    "language_info": {
      "name": "python"
    }
  },
  "cells": [
    {
      "cell_type": "code",
      "source": [
        "import requests\n",
        "from bs4 import BeautifulSoup\n",
        "import csv\n",
        "import re\n",
        "\n",
        "url = \"https://www.cwa.gov.tw/V8/C/W/OBS_Map.html\"  # 用您要抓取的网页的URL替换\n",
        "response = requests.get(url)\n",
        "soup = BeautifulSoup(response.text, \"html.parser\")\n",
        "\n",
        "# 假设您已经有了BeautifulSoup对象soup，包含了整个网页的HTML\n",
        "data = []  # 用于存储基隆市和新北市数据的数组\n",
        "\n",
        "# 找到包含数据的所有<g>元素，这些元素代表不同的城市/地区\n",
        "g_elements = soup.find_all(\"g\")\n",
        "\n",
        "# 遍历每个<g>元素，提取数据\n",
        "for g_element in g_elements:\n",
        "    desc_element = g_element.find(\"desc\")\n",
        "    path_element = g_element.find(\"path\")\n",
        "\n",
        "    if desc_element and path_element:\n",
        "        city_name = desc_element.text.strip()  # 提取城市/地区的名称\n",
        "        d_attribute = path_element.get(\"d\")  # 提取SVG路径数据\n",
        "\n",
        "        # 使用正则表达式提取数字部分\n",
        "        numbers = re.findall(r'\\d+\\.\\d+', d_attribute)\n",
        "\n",
        "        # 检查城市描述并将数据添加到数组\n",
        "        data.append({\"city\": city_name, \"numbers\": numbers})\n",
        "\n",
        "# 保存数据到CSV文件\n",
        "with open(\"city_data.csv\", \"w\", newline=\"\") as csv_file:\n",
        "    csv_writer = csv.writer(csv_file)\n",
        "    # 先写入表头\n",
        "    csv_writer.writerow([\"City\", \"Numbers\"])\n",
        "    # 遍历数据数组，写入城市名称和数字\n",
        "    for entry in data:\n",
        "        csv_writer.writerow([entry[\"city\"], entry[\"numbers\"]])\n",
        "\n",
        "# 保存数据到JSON文件\n",
        "with open(\"city_data.json\", \"w\", encoding=\"utf-8\") as json_file:\n",
        "    json.dump(data, json_file, ensure_ascii=False, indent=4)\n"
      ],
      "metadata": {
        "id": "82xYs1q3qpGZ"
      },
      "execution_count": 25,
      "outputs": []
    }
  ]
}